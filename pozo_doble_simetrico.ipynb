{
 "cells": [
  {
   "cell_type": "code",
   "execution_count": 2,
   "metadata": {},
   "outputs": [],
   "source": [
    "import numpy as np\n",
    "import matplotlib.pyplot as plt\n",
    "import sympy as sp\n",
    "\n",
    "%matplotlib inline\n",
    "\n",
    "sp.init_printing()"
   ]
  },
  {
   "cell_type": "code",
   "execution_count": 3,
   "metadata": {},
   "outputs": [],
   "source": [
    "t= sp.symbols('t')\n",
    "g, a = sp.symbols('g, a', positive = True)\n",
    "\n",
    "w = g*a\n",
    "\n",
    "x = sp.Function('x')(t)"
   ]
  },
  {
   "cell_type": "code",
   "execution_count": 4,
   "metadata": {},
   "outputs": [],
   "source": [
    "V = (g**2/8)*(x**2 - a**2)**2"
   ]
  },
  {
   "cell_type": "code",
   "execution_count": 5,
   "metadata": {},
   "outputs": [
    {
     "data": {
      "image/png": "[encoded data removed]",
      "text/latex": [
       "$\\displaystyle - \\frac{g^{2} \\left(- a^{2} + x^{2}{\\left(t \\right)}\\right) x{\\left(t \\right)}}{2} + \\frac{d^{2}}{d t^{2}} x{\\left(t \\right)}$"
      ],
      "text/plain": [
       "   2 ⎛   2    2   ⎞          2      \n",
       "  g ⋅⎝- a  + x (t)⎠⋅x(t)    d       \n",
       "- ────────────────────── + ───(x(t))\n",
       "            2                2      \n",
       "                           dt       "
      ]
     },
     "metadata": {},
     "output_type": "display_data"
    }
   ],
   "source": [
    "eq_instanton = sp.diff(x, t, 2) - sp.diff(V, x)\n",
    "\n",
    "display(eq_instanton)"
   ]
  },
  {
   "cell_type": "code",
   "execution_count": 6,
   "metadata": {},
   "outputs": [
    {
     "data": {
      "text/plain": [
       "[<matplotlib.lines.Line2D at 0x7f917dce9160>]"
      ]
     },
     "execution_count": 6,
     "metadata": {},
     "output_type": "execute_result"
    },
    {
     "data": {
      "image/png": "[encoded data removed]",
      "text/plain": [
       "<Figure size 432x288 with 1 Axes>"
      ]
     },
     "metadata": {
      "needs_background": "light"
     },
     "output_type": "display_data"
    }
   ],
   "source": [
    "t_plot = np.linspace(-5, 5, 100)\n",
    "\n",
    "instanton_plot = np.tanh(t_plot)\n",
    "\n",
    "plt.plot(t_plot, instanton_plot)"
   ]
  },
  {
   "cell_type": "code",
   "execution_count": 11,
   "metadata": {},
   "outputs": [
    {
     "data": {
      "image/png": "[encoded data removed]",
      "text/latex": [
       "$\\displaystyle \\int \\operatorname{sech}^{4}{\\left(t \\right)}\\, dt$"
      ],
      "text/plain": [
       "⌠            \n",
       "⎮     4      \n",
       "⎮ sech (t) dt\n",
       "⌡            "
      ]
     },
     "execution_count": 11,
     "metadata": {},
     "output_type": "execute_result"
    }
   ],
   "source": [
    "e = sp.symbols('\\epsilon')\n",
    "\n",
    "S = sp.integrate((sp.sech(t))**4)\n",
    "\n",
    "S"
   ]
  },
  {
   "cell_type": "markdown",
   "metadata": {},
   "source": [
    "# Bounce para el pozo doble simétrico"
   ]
  },
  {
   "cell_type": "code",
   "execution_count": 9,
   "metadata": {},
   "outputs": [
    {
     "data": {
      "image/png": "[encoded data removed]",
      "text/latex": [
       "$\\displaystyle C{\\left(t \\right)} e^{- t^{2}}$"
      ],
      "text/plain": [
       "        2\n",
       "      -t \n",
       "C(t)⋅ℯ   "
      ]
     },
     "metadata": {},
     "output_type": "display_data"
    }
   ],
   "source": [
    "C1 = sp.Function('C')(t)\n",
    "\n",
    "intento1 = C1*sp.exp(-t**2)\n",
    "\n",
    "display(intento1)"
   ]
  },
  {
   "cell_type": "markdown",
   "metadata": {},
   "source": [
    "Halla el valor de $C$ de tal forma que se tenga una solución tipo bounce a la ecuación de movimiento euclideana para el pozo doble simétrico"
   ]
  },
  {
   "cell_type": "code",
   "execution_count": 10,
   "metadata": {},
   "outputs": [
    {
     "data": {
      "image/png": "[encoded data removed]",
      "text/latex": [
       "$\\displaystyle \\frac{a^{2} g^{2} C{\\left(t \\right)} e^{- t^{2}}}{2} - \\frac{g^{2} C^{3}{\\left(t \\right)} e^{- 3 t^{2}}}{2} + \\left(- 4 t \\frac{d}{d t} C{\\left(t \\right)} + 2 \\left(2 t^{2} - 1\\right) C{\\left(t \\right)} + \\frac{d^{2}}{d t^{2}} C{\\left(t \\right)}\\right) e^{- t^{2}}$"
      ],
      "text/plain": [
       "              2                 2                                             \n",
       " 2  2       -t     2  3     -3⋅t    ⎛                                       2 \n",
       "a ⋅g ⋅C(t)⋅ℯ      g ⋅C (t)⋅ℯ        ⎜      d            ⎛   2    ⎞         d  \n",
       "─────────────── - ─────────────── + ⎜- 4⋅t⋅──(C(t)) + 2⋅⎝2⋅t  - 1⎠⋅C(t) + ───(\n",
       "       2                 2          ⎜      dt                               2 \n",
       "                                    ⎝                                     dt  \n",
       "\n",
       "           \n",
       "     ⎞    2\n",
       "     ⎟  -t \n",
       "C(t))⎟⋅ℯ   \n",
       "     ⎟     \n",
       "     ⎠     "
      ]
     },
     "metadata": {},
     "output_type": "display_data"
    }
   ],
   "source": [
    "eq_C = sp.simplify(eq_instanton.subs(x, intento1))\n",
    "\n",
    "display(eq_C)"
   ]
  },
  {
   "cell_type": "markdown",
   "metadata": {},
   "source": [
    "La expresión anterior debe ser igual a 0"
   ]
  },
  {
   "cell_type": "code",
   "execution_count": 169,
   "metadata": {},
   "outputs": [
    {
     "data": {
      "image/png": "[encoded data removed]",
      "text/latex": [
       "$\\displaystyle \\left[ 0, \\  - \\frac{a \\sqrt{\\left(e^{2 a g t} - 3\\right) \\left(3 e^{2 a g t} - 1\\right) e^{- 2 a g t}}}{2}, \\  \\frac{a \\sqrt{\\left(e^{2 a g t} - 3\\right) \\left(3 e^{2 a g t} - 1\\right) e^{- 2 a g t}}}{2}\\right]$"
      ],
      "text/plain": [
       "⎡         ___________________________________________        _________________\n",
       "⎢        ╱ ⎛ 2⋅a⋅g⋅t    ⎞ ⎛   2⋅a⋅g⋅t    ⎞  -2⋅a⋅g⋅t        ╱ ⎛ 2⋅a⋅g⋅t    ⎞ ⎛\n",
       "⎢   -a⋅╲╱  ⎝ℯ        - 3⎠⋅⎝3⋅ℯ        - 1⎠⋅ℯ            a⋅╲╱  ⎝ℯ        - 3⎠⋅⎝\n",
       "⎢0, ──────────────────────────────────────────────────, ──────────────────────\n",
       "⎣                           2                                                 \n",
       "\n",
       "__________________________⎤\n",
       "   2⋅a⋅g⋅t    ⎞  -2⋅a⋅g⋅t ⎥\n",
       "3⋅ℯ        - 1⎠⋅ℯ         ⎥\n",
       "──────────────────────────⎥\n",
       " 2                        ⎦"
      ]
     },
     "execution_count": 169,
     "metadata": {},
     "output_type": "execute_result"
    }
   ],
   "source": [
    "C_intento1 = sp.solve(eq_C, C)\n",
    "\n",
    "C_intento1"
   ]
  },
  {
   "cell_type": "code",
   "execution_count": 177,
   "metadata": {},
   "outputs": [
    {
     "data": {
      "image/png": "[encoded data removed]",
      "text/latex": [
       "$\\displaystyle - \\frac{a \\sqrt{6 \\cosh{\\left(2 a g t \\right)} - 10}}{2 \\cosh{\\left(a g t \\right)}}$"
      ],
      "text/plain": [
       "     ______________________ \n",
       "-a⋅╲╱ 6⋅cosh(2⋅a⋅g⋅t) - 10  \n",
       "────────────────────────────\n",
       "       2⋅cosh(a⋅g⋅t)        "
      ]
     },
     "metadata": {},
     "output_type": "display_data"
    }
   ],
   "source": [
    "sol_intento1 = sp.simplify(intento1.subs(C, C_intento1[1]))\n",
    "\n",
    "display(sol_intento1)"
   ]
  },
  {
   "cell_type": "markdown",
   "metadata": {},
   "source": [
    "La solucion obtenida no tiene sentido"
   ]
  },
  {
   "cell_type": "code",
   "execution_count": null,
   "metadata": {},
   "outputs": [],
   "source": []
  }
 ],
 "metadata": {
  "kernelspec": {
   "display_name": "Python 3",
   "language": "python",
   "name": "python3"
  },
  "language_info": {
   "codemirror_mode": {
    "name": "ipython",
    "version": 3
   },
   "file_extension": ".py",
   "mimetype": "text/x-python",
   "name": "python",
   "nbconvert_exporter": "python",
   "pygments_lexer": "ipython3",
   "version": "3.6.9"
  }
 },
 "nbformat": 4,
 "nbformat_minor": 4
}
